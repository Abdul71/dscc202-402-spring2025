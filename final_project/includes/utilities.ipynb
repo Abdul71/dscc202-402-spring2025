{
 "cells": [
  {
   "cell_type": "code",
   "execution_count": 0,
   "metadata": {
    "application/vnd.databricks.v1+cell": {
     "cellMetadata": {
      "byteLimit": 2048000,
      "rowLimit": 10000
     },
     "inputWidgets": {},
     "nuid": "bb9e3148-916a-455f-8dd1-e0dde07cdc35",
     "showTitle": false,
     "tableResultSettingsMap": {},
     "title": ""
    }
   },
   "outputs": [],
   "source": [
    "\n",
    "from pyspark.sql.session import SparkSession\n",
    "import time\n",
    "import pandas as pd\n",
    "from delta import *\n",
    "import os\n",
    "\n",
    "# Function to optimize Delta table if it exists\n",
    "def optimize_table(path):\n",
    "    if os.path.exists(path):\n",
    "        DeltaTable.forPath(spark, path).optimize().executeCompaction()\n",
    "        print(f\"Optimized Delta Table at {path}\")\n",
    "    else:\n",
    "        print(f\"Delta Table at {path} does not exist.\")\n",
    "\n",
    "# This routine requires the paths defined in the includes notebook\n",
    "# and it clears data from the previous run.\n",
    "def clear_previous_run() -> bool:\n",
    "    # delete previous run \n",
    "    dbutils.fs.rm(BRONZE_CHECKPOINT, True)\n",
    "    dbutils.fs.rm(BRONZE_DELTA, True)\n",
    "    dbutils.fs.rm(SILVER_CHECKPOINT, True)\n",
    "    dbutils.fs.rm(SILVER_DELTA, True)\n",
    "    dbutils.fs.rm(GOLD_CHECKPOINT, True)\n",
    "    dbutils.fs.rm(GOLD_DELTA, True)\n",
    "    return True\n",
    "\n",
    "def stop_all_streams() -> bool:\n",
    "    stopped = False\n",
    "    for stream in spark.streams.active:\n",
    "        stopped = True\n",
    "        stream.stop()\n",
    "    return stopped\n",
    "\n",
    "\n",
    "def stop_named_stream(spark: SparkSession, namedStream: str) -> bool:\n",
    "    stopped = False\n",
    "    for stream in spark.streams.active:\n",
    "        if stream.name == namedStream:\n",
    "            stopped = True \n",
    "            stream.stop()\n",
    "    return stopped\n",
    "\n",
    "def wait_stream_start(spark: SparkSession, namedStream: str) -> bool:\n",
    "    started = False\n",
    "    count = 0\n",
    "    if started == False and count <= 3:\n",
    "        for stream in spark.streams.active:\n",
    "            if stream.name == namedStream:\n",
    "                started = True\n",
    "        count += 1\n",
    "        time.sleep(10)\n",
    "    return started    \n",
    "\n"
   ]
  }
 ],
 "metadata": {
  "application/vnd.databricks.v1+notebook": {
   "computePreferences": null,
   "dashboards": [],
   "environmentMetadata": null,
   "inputWidgetPreferences": null,
   "language": "python",
   "notebookMetadata": {
    "pythonIndentUnit": 4
   },
   "notebookName": "utilities",
   "widgets": {}
  },
  "language_info": {
   "name": "python"
  }
 },
 "nbformat": 4,
 "nbformat_minor": 0
}
